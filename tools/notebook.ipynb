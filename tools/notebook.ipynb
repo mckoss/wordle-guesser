{
 "cells": [
  {
   "cell_type": "markdown",
   "metadata": {},
   "source": [
    "# Data Utilities\n",
    "\n",
    "Some python scripts for munging dictionaries and other data tasks.\n"
   ]
  },
  {
   "cell_type": "code",
   "execution_count": 22,
   "metadata": {},
   "outputs": [],
   "source": [
    "# Global imports\n",
    "\n",
    "import re\n",
    "import json\n",
    "import csv\n",
    "\n",
    "DATA_DIR = '../data';"
   ]
  },
  {
   "cell_type": "code",
   "execution_count": 23,
   "metadata": {},
   "outputs": [],
   "source": [
    "alpha_only = re.compile(r'[a-zA-Z]+')\n",
    "\n",
    "def get_words(dict_file_name):\n",
    "  with open(f\"{DATA_DIR}/{dict_file_name}\", encoding='latin-1', mode='r') as f:\n",
    "    words = f.read().splitlines()\n",
    "\n",
    "  print(f\"{len(words):,} words read from {dict_file_name}\")\n",
    "\n",
    "  words = [word.lower() for word in words if alpha_only.match(word)]\n",
    "  print(f\"... {len(words):,} are alpha only\")\n",
    "\n",
    "  words = [word for word in words if len(word) == 5]\n",
    "  print(f\"... {len(words):,} are 5 letters long\\n\")\n",
    "\n",
    "  return set(words)"
   ]
  },
  {
   "cell_type": "code",
   "execution_count": 24,
   "metadata": {},
   "outputs": [
    {
     "name": "stdout",
     "output_type": "stream",
     "text": [
      "42,700 words read from dict.txt\n",
      "... 42,697 are alpha only\n",
      "... 4,430 are 5 letters long\n",
      "\n",
      "77,722 words read from usa2.txt\n",
      "... 77,718 are alpha only\n",
      "... 5,442 are 5 letters long\n",
      "\n",
      "194,433 words read from english3.txt\n",
      "... 194,433 are alpha only\n",
      "... 11,435 are 5 letters long\n",
      "\n",
      "2,315 words read from wordle_solutions.txt\n",
      "... 2,315 are alpha only\n",
      "... 2,315 are 5 letters long\n",
      "\n",
      "12,897 words read from wordle_complete_dictionary.txt\n",
      "... 12,897 are alpha only\n",
      "... 12,897 are 5 letters long\n",
      "\n",
      "2,315 solutions are in the complete dictionary\n"
     ]
    }
   ],
   "source": [
    "dictionary = get_words('dict.txt')\n",
    "usa = get_words('usa2.txt')\n",
    "english = get_words('english3.txt')\n",
    "wordle_solutions = get_words('wordle_solutions.txt')\n",
    "wordle_dict = get_words('wordle_complete_dictionary.txt')\n",
    "\n",
    "# Confirm all solutions are IN the complete dictionary!\n",
    "present = wordle_solutions.intersection(wordle_dict)\n",
    "print(f\"{len(present):,} solutions are in the complete dictionary\")\n"
   ]
  },
  {
   "cell_type": "code",
   "execution_count": 25,
   "metadata": {},
   "outputs": [
    {
     "name": "stdout",
     "output_type": "stream",
     "text": [
      "5,282 words in usa ISECT english\n"
     ]
    }
   ],
   "source": [
    "# My dictionary missing many words!\n",
    "# isect = dictionary.intersection(usa)\n",
    "isect = usa.intersection(english)\n",
    "print(f\"{len(isect):,} words in usa ISECT english\")"
   ]
  },
  {
   "cell_type": "code",
   "execution_count": 26,
   "metadata": {},
   "outputs": [],
   "source": [
    "# Use the same dictionaries as used in Wordle.\n",
    "\n",
    "with open(f'{DATA_DIR}/words.json', 'w') as f:\n",
    "  json.dump(sorted(wordle_dict), f, indent=2)\n",
    "\n",
    "with open(f'{DATA_DIR}/solutions.json', 'w') as f:\n",
    "  json.dump(sorted(wordle_solutions), f, indent=2)"
   ]
  },
  {
   "cell_type": "code",
   "execution_count": 27,
   "metadata": {},
   "outputs": [],
   "source": [
    "# Write a json file with this cleanup up dictionary\n",
    "# import json\n",
    "\n",
    "# with open(f'{DATA_DIR}/words.json', 'w') as f:\n",
    "#   json.dump(sorted(isect), f, indent=2)\n"
   ]
  },
  {
   "cell_type": "markdown",
   "metadata": {},
   "source": [
    "# Test Words"
   ]
  },
  {
   "cell_type": "code",
   "execution_count": 28,
   "metadata": {},
   "outputs": [
    {
     "name": "stdout",
     "output_type": "stream",
     "text": [
      "722 words read from darrellp.csv\n"
     ]
    }
   ],
   "source": [
    "words = []\n",
    "\n",
    "with open(f\"{DATA_DIR}/darrellp.csv\", 'r') as f:\n",
    "  reader = csv.reader(f)\n",
    "  words = [row[0] for row in reader]\n",
    "\n",
    "print(f\"{len(words):,} words read from darrellp.csv\")\n",
    "\n",
    "with open(f\"{DATA_DIR}/test-words.json\", 'w') as f:\n",
    "  json.dump(words, f, indent=2)"
   ]
  },
  {
   "cell_type": "markdown",
   "metadata": {},
   "source": [
    "# Evaluate Test Results"
   ]
  },
  {
   "cell_type": "code",
   "execution_count": 29,
   "metadata": {},
   "outputs": [],
   "source": [
    "def analyze_results(file_name):\n",
    "  hist = dict()\n",
    "\n",
    "  with open(f\"{DATA_DIR}/{file_name}\", 'r') as f:\n",
    "    reader = csv.reader(f)\n",
    "    results = [row for row in reader]\n",
    "  \n",
    "  scores = [row[2] for row in results]\n",
    "\n",
    "  samples = len(scores)\n",
    "\n",
    "  num_scores = [int(score) for score in scores if score.isnumeric()]\n",
    "\n",
    "  worst_score = max(num_scores)\n",
    "  \n",
    "  print(f\"\\n{file_name} average: {sum(num_scores) / len(num_scores):.2f} \" +\n",
    "    f\"maximum: {worst_score} \" +\n",
    "    f\"over {len(num_scores):,} scores\")\n",
    "\n",
    "  hardest_words = [row[0] for row in results if row[2] == str(worst_score)]\n",
    "  print(f\"Hardest words: {', '.join(hardest_words)}\")\n",
    "\n",
    "  for row in results:\n",
    "    score = row[2]\n",
    "    if not score.isnumeric():\n",
    "      continue;\n",
    "\n",
    "    hist[score] = hist.get(score, 0) + 1\n",
    "\n",
    "  print(\"Histogram of guess counts:\")\n",
    "  for score in sorted(hist.keys()):\n",
    "    print(f\"{score}: {hist[score]:,}\")\n"
   ]
  },
  {
   "cell_type": "code",
   "execution_count": 32,
   "metadata": {},
   "outputs": [
    {
     "name": "stdout",
     "output_type": "stream",
     "text": [
      "\n",
      "darrellp.csv average: 4.18 maximum: 10 over 722 scores\n",
      "Hardest words: wears\n",
      "Histogram of guess counts:\n",
      "1: 1\n",
      "10: 1\n",
      "2: 18\n",
      "3: 219\n",
      "4: 263\n",
      "5: 124\n",
      "6: 60\n",
      "7: 17\n",
      "8: 11\n",
      "9: 8\n",
      "\n",
      "mckoss.csv average: 3.54 maximum: 6 over 365 scores\n",
      "Hardest words: punch, witty\n",
      "Histogram of guess counts:\n",
      "2: 17\n",
      "3: 166\n",
      "4: 152\n",
      "5: 28\n",
      "6: 2\n",
      "\n",
      "sample.csv average: 3.54 maximum: 6 over 100 scores\n",
      "Hardest words: punch, gooey\n",
      "Histogram of guess counts:\n",
      "2: 5\n",
      "3: 46\n",
      "4: 41\n",
      "5: 6\n",
      "6: 2\n",
      "\n",
      "all-solutions.csv average: 3.53 maximum: 6 over 2,315 scores\n",
      "Hardest words: gooey, greed, jolly, merry, pitch, power, punch, tight, vaunt, witty, wreak\n",
      "Histogram of guess counts:\n",
      "1: 1\n",
      "2: 104\n",
      "3: 1,058\n",
      "4: 978\n",
      "5: 163\n",
      "6: 11\n",
      "\n",
      "all-expectations.csv average: 3.67 maximum: 5 over 2,315 scores\n",
      "Hardest words: badly, berry, bigot, booby, booty, boxer, buggy, bunny, daddy, dilly, fanny, fever, fewer, fifty, fight, finch, fixer, fizzy, flank, flung, flunk, foggy, folly, found, freak, freer, frown, funky, funny, fuzzy, gland, goner, goody, grave, graze, green, grown, gummy, guppy, happy, hatch, heave, hilly, hippy, hitch, holly, hotly, hover, hyper, jaunt, jazzy, jerky, jiffy, joker, jolly, leper, lever, lover, lower, madly, mammy, merry, might, moody, mummy, munch, nanny, never, newer, paddy, patty, perky, pitch, pivot, plank, plant, poker, poppy, power, preen, prong, puffy, punch, puppy, purer, putty, queer, tatty, taunt, tiger, tight, upper, vaunt, wafer, watch, waver, weave, willy, wimpy, winch, witty, women, wound, woven, wreak, wrong\n",
      "Histogram of guess counts:\n",
      "1: 1\n",
      "2: 28\n",
      "3: 801\n",
      "4: 1,379\n",
      "5: 106\n",
      "\n",
      "expectation-with-margin-0.15.csv average: 3.48 maximum: 5 over 2,315 scores\n",
      "Hardest words: brook, folly, funny, fuzzy, giddy, goner, golly, gully, happy, jaunt, jazzy, jolly, judge, jiffy, liver, mammy, merry, nanny, ninny, paddy, piggy, pluck, pound, pulpy, puppy, shell, shrew, sneer, tatty, taunt, tight, vaunt, viper, wager, watch, waver, willy, winch, wreak\n",
      "Histogram of guess counts:\n",
      "2: 60\n",
      "3: 1,119\n",
      "4: 1,097\n",
      "5: 39\n",
      "\n",
      "opt-worst-case.csv average: 3.76 maximum: 5 over 2,315 scores\n",
      "Hardest words: biddy, bigot, bingo, boxer, brood, brook, caddy, cheer, chuck, chump, cluck, corer, couch, cough, coven, cover, creek, creep, dandy, dilly, dingo, dingy, ditch, ditto, droop, drown, ember, every, fanny, ferry, fever, fewer, fifth, fight, filly, filmy, finch, fizzy, flake, fluff, flung, flunk, folly, found, foyer, freer, funky, funny, furor, fuzzy, gawky, giddy, glaze, golly, goner, grave, graze, green, grown, gummy, guppy, handy, happy, hatch, hitch, holly, homer, hotly, hover, hunch, hunky, hymen, imply, jaunt, jazzy, jerky, jiffy, joker, jolly, junto, juror, kinky, kitty, lanky, leery, lofty, loopy, lover, lower, lowly, lumen, manly, mercy, merry, might, milky, mover, mower, mummy, munch, nanny, never, newer, ninny, novel, outgo, paddy, perch, perky, picky, piggy, pinch, pinky, pitch, pithy, pivot, place, plane, pluck, plunk, poker, pouch, power, preen, puppy, scoop, spoof, spook, swoop, taunt, throb, throw, tight, troop, tumor, tutor, vaunt, vouch, wacky, wafer, watch, waver, width, wight, willy, woken, women, wooer, wooly, wound\n",
      "Histogram of guess counts:\n",
      "1: 1\n",
      "2: 32\n",
      "3: 643\n",
      "4: 1,489\n",
      "5: 150\n",
      "\n",
      "optimized.csv average: 3.48 maximum: 5 over 2,315 scores\n",
      "Hardest words: dimly, diver, fuzzy, goner, hilly, hunky, jerky, jazzy, jolly, jiffy, liver, mamma, miner, mummy, muddy, paper, puppy, savvy, vaunt, vouch, watch, wound\n",
      "Histogram of guess counts:\n",
      "2: 61\n",
      "3: 1,093\n",
      "4: 1,139\n",
      "5: 22\n"
     ]
    }
   ],
   "source": [
    "analyze_results('darrellp.csv')\n",
    "analyze_results('mckoss.csv')\n",
    "analyze_results('sample.csv')\n",
    "analyze_results('all-solutions.csv')\n",
    "analyze_results('all-expectations.csv')\n",
    "analyze_results('expectation-with-margin-0.15.csv')\n",
    "analyze_results('opt-worst-case.csv')\n",
    "analyze_results('optimized.csv')"
   ]
  },
  {
   "cell_type": "markdown",
   "metadata": {},
   "source": [
    "# 2nd-guess optimization\n",
    "\n",
    "Rather than rely completely on the algorithmic choices of the 2nd word guess, we\n",
    "can further reduce the number of 5-guess words from 39 to only 22 by replacing\n",
    "just a few guesses that result in fewer of them.\n",
    "\n",
    "```\n",
    "First guess: roate\n",
    "Expected guesses: 3.48\n",
    "Max guesses: 5 for 22 words\n",
    "Clues for 2nd guess for 5-guess words:\n",
    "XX?XX: 3 using linds\n",
    "XX??X: 2 using haunt\n",
    "?X?X?: 1 using bawls\n",
    "?XXX?: 4 using feeds\n",
    "XXXXX: 8 using sculp\n",
    "X!XXX: 3 using scold\n",
    "?!XX?: 1 using mawks\n",
    "```\n",
    "\n",
    "The dark green plot below represents this optimized decision tree."
   ]
  },
  {
   "cell_type": "code",
   "execution_count": 31,
   "metadata": {},
   "outputs": [
    {
     "data": {
      "image/png": "[encoded data removed]",
      "text/plain": [
       "<Figure size 432x288 with 1 Axes>"
      ]
     },
     "metadata": {
      "needs_background": "light"
     },
     "output_type": "display_data"
    }
   ],
   "source": [
    "import matplotlib.pyplot as plt\n",
    "plt.plot([1,2,3,4,5,6], [1, 104, 1058, 978, 163, 11], 'blue')\n",
    "plt.plot([1,2,3,4,5], [1, 28, 801, 1379, 106], 'red')\n",
    "plt.plot([1,2,3,4,5], [0, 60, 1119, 1097, 39], 'green')\n",
    "plt.plot([1,2,3,4,5], [0, 61, 1093, 1139, 22], 'darkgreen')\n",
    "plt.plot([1,2,3,4,5], [1, 32, 643, 1489, 150], 'grey')\n",
    "\n",
    "plt.ylabel('count of guesses')\n",
    "plt.show()"
   ]
  },
  {
   "cell_type": "code",
   "execution_count": null,
   "metadata": {},
   "outputs": [],
   "source": []
  }
 ],
 "metadata": {
  "interpreter": {
   "hash": "916dbcbb3f70747c44a77c7bcd40155683ae19c65e1c03b4aa3499c5328201f1"
  },
  "kernelspec": {
   "display_name": "Python 3.8.10 64-bit",
   "language": "python",
   "name": "python3"
  },
  "language_info": {
   "codemirror_mode": {
    "name": "ipython",
    "version": 3
   },
   "file_extension": ".py",
   "mimetype": "text/x-python",
   "name": "python",
   "nbconvert_exporter": "python",
   "pygments_lexer": "ipython3",
   "version": "3.8.9"
  },
  "orig_nbformat": 4
 },
 "nbformat": 4,
 "nbformat_minor": 2
}
