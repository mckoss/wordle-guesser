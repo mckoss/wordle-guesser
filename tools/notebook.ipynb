{
 "cells": [
  {
   "cell_type": "markdown",
   "metadata": {},
   "source": [
    "# Data Utilities\n",
    "\n",
    "Some python scripts for munging dictionaries and other data tasks."
   ]
  },
  {
   "cell_type": "code",
   "execution_count": 6,
   "metadata": {},
   "outputs": [],
   "source": [
    "# Global imports\n",
    "\n",
    "import re\n",
    "import json\n",
    "import csv"
   ]
  },
  {
   "cell_type": "code",
   "execution_count": 7,
   "metadata": {},
   "outputs": [],
   "source": [
    "DATA_DIR = '../data';\n",
    "\n",
    "alpha_only = re.compile(r'[a-zA-Z]+')\n",
    "\n",
    "def get_words(dict_file_name):\n",
    "  with open(f\"{DATA_DIR}/{dict_file_name}\", encoding='latin-1', mode='r') as f:\n",
    "    words = f.read().splitlines()\n",
    "\n",
    "  print(f\"{len(words):,} words read from {dict_file_name}\")\n",
    "\n",
    "  words = [word.lower() for word in words if alpha_only.match(word)]\n",
    "  print(f\"... {len(words):,} are alpha only\")\n",
    "\n",
    "  words = [word for word in words if len(word) == 5]\n",
    "  print(f\"... {len(words):,} are 5 letters long\\n\")\n",
    "\n",
    "  return set(words)"
   ]
  },
  {
   "cell_type": "code",
   "execution_count": 5,
   "metadata": {},
   "outputs": [
    {
     "name": "stdout",
     "output_type": "stream",
     "text": [
      "42,700 words read from dict.txt\n",
      "... 42,697 are alpha only\n",
      "... 4,430 are 5 letters long\n",
      "\n",
      "77,722 words read from usa2.txt\n",
      "... 77,718 are alpha only\n",
      "... 5,442 are 5 letters long\n",
      "\n",
      "194,433 words read from english3.txt\n",
      "... 194,433 are alpha only\n",
      "... 11,435 are 5 letters long\n",
      "\n",
      "2,315 words read from wordle_solutions.txt\n",
      "... 2,315 are alpha only\n",
      "... 2,315 are 5 letters long\n",
      "\n",
      "12,897 words read from wordle_complete_dictionary.txt\n",
      "... 12,897 are alpha only\n",
      "... 12,897 are 5 letters long\n",
      "\n",
      "2,315 solutions are in the complete dictionary\n"
     ]
    }
   ],
   "source": [
    "dict = get_words('dict.txt')\n",
    "usa = get_words('usa2.txt')\n",
    "english = get_words('english3.txt')\n",
    "wordle_solutions = get_words('wordle_solutions.txt')\n",
    "wordle_dict = get_words('wordle_complete_dictionary.txt')\n",
    "\n",
    "# Confirm all solutions are IN the complete dictionary!\n",
    "present = wordle_solutions.intersection(wordle_dict)\n",
    "print(f\"{len(present):,} solutions are in the complete dictionary\")\n"
   ]
  },
  {
   "cell_type": "code",
   "execution_count": 29,
   "metadata": {},
   "outputs": [
    {
     "name": "stdout",
     "output_type": "stream",
     "text": [
      "5,282 words in uses ISECT english\n"
     ]
    }
   ],
   "source": [
    "# My dictionary missing many words!\n",
    "# isect = dict.intersection(usa)\n",
    "isect = usa.intersection(english)\n",
    "print(f\"{len(isect):,} words in usa ISECT english\")"
   ]
  },
  {
   "cell_type": "code",
   "execution_count": 14,
   "metadata": {},
   "outputs": [],
   "source": [
    "# Use the same dictionaries as used in Wordle.\n",
    "\n",
    "with open(f'{DATA_DIR}/words.json', 'w') as f:\n",
    "  json.dump(sorted(wordle_dict), f, indent=2)\n",
    "\n",
    "with open(f'{DATA_DIR}/solutions.json', 'w') as f:\n",
    "  json.dump(sorted(wordle_solutions), f, indent=2)"
   ]
  },
  {
   "cell_type": "code",
   "execution_count": 30,
   "metadata": {},
   "outputs": [],
   "source": [
    "# Write a json file with this cleanup up dictionary\n",
    "# import json\n",
    "\n",
    "# with open(f'{DATA_DIR}/words.json', 'w') as f:\n",
    "#   json.dump(sorted(isect), f, indent=2)\n"
   ]
  },
  {
   "cell_type": "markdown",
   "metadata": {},
   "source": [
    "# Test Words"
   ]
  },
  {
   "cell_type": "code",
   "execution_count": 9,
   "metadata": {},
   "outputs": [
    {
     "name": "stdout",
     "output_type": "stream",
     "text": [
      "722 words read from darrellp.csv\n"
     ]
    }
   ],
   "source": [
    "words = []\n",
    "\n",
    "with open(f\"{DATA_DIR}/darrellp.csv\", 'r') as f:\n",
    "  reader = csv.reader(f)\n",
    "  words = [row[0] for row in reader]\n",
    "\n",
    "print(f\"{len(words):,} words read from darrellp.csv\")\n",
    "\n",
    "with open(f\"{DATA_DIR}/test-words.json\", 'w') as f:\n",
    "  json.dump(words, f, indent=2)"
   ]
  },
  {
   "cell_type": "markdown",
   "metadata": {},
   "source": [
    "# Evaluate Test Results"
   ]
  },
  {
   "cell_type": "code",
   "execution_count": 11,
   "metadata": {},
   "outputs": [],
   "source": [
    "def analyze_results(file_name):\n",
    "  with open(f\"{DATA_DIR}/{file_name}\", 'r') as f:\n",
    "    reader = csv.reader(f)\n",
    "    scores = [row[2] for row in reader]\n",
    "\n",
    "  samples = len(scores)\n",
    "\n",
    "  num_scores = [int(score) for score in scores if score.isnumeric()]\n",
    "\n",
    "  print(f\"{file_name} average: {sum(num_scores) / len(num_scores):.2f} over \" +\n",
    "    f\"{len(num_scores):,} scores\")"
   ]
  },
  {
   "cell_type": "code",
   "execution_count": 15,
   "metadata": {},
   "outputs": [
    {
     "name": "stdout",
     "output_type": "stream",
     "text": [
      "darrellp.csv average: 4.18 over 722 scores\n",
      "mckoss.csv average: 3.63 over 365 scores\n"
     ]
    }
   ],
   "source": [
    "analyze_results('darrellp.csv')\n",
    "analyze_results('mckoss.csv')"
   ]
  },
  {
   "cell_type": "code",
   "execution_count": null,
   "metadata": {},
   "outputs": [],
   "source": []
  }
 ],
 "metadata": {
  "interpreter": {
   "hash": "916dbcbb3f70747c44a77c7bcd40155683ae19c65e1c03b4aa3499c5328201f1"
  },
  "kernelspec": {
   "display_name": "Python 3.8.10 64-bit",
   "language": "python",
   "name": "python3"
  },
  "language_info": {
   "codemirror_mode": {
    "name": "ipython",
    "version": 3
   },
   "file_extension": ".py",
   "mimetype": "text/x-python",
   "name": "python",
   "nbconvert_exporter": "python",
   "pygments_lexer": "ipython3",
   "version": "3.8.10"
  },
  "orig_nbformat": 4
 },
 "nbformat": 4,
 "nbformat_minor": 2
}
