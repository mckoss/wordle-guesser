{
 "cells": [
  {
   "cell_type": "markdown",
   "metadata": {},
   "source": [
    "# Data Utilities\n",
    "\n",
    "Some (temp) python scripts for munging dictionaries and other data tasks."
   ]
  },
  {
   "cell_type": "code",
   "execution_count": 45,
   "metadata": {},
   "outputs": [],
   "source": [
    "import re\n",
    "\n",
    "DATA_DIR = '../data';\n",
    "\n",
    "alpha_only = re.compile(r'[a-zA-Z]+')\n",
    "\n",
    "def get_words(dict_file_name):\n",
    "  with open(f\"{DATA_DIR}/{dict_file_name}\", encoding='latin-1', mode='r') as f:\n",
    "    words = f.read().splitlines()\n",
    "\n",
    "  print(f\"{len(words):,} words read from {dict_file_name}\")\n",
    "\n",
    "  words = [word.lower() for word in words if alpha_only.match(word)]\n",
    "  print(f\"... {len(words):,} are alpha only\")\n",
    "\n",
    "  words = [word for word in words if len(word) == 5]\n",
    "  print(f\"... {len(words):,} are 5 letters long\\n\")\n",
    "\n",
    "  return set(words)"
   ]
  },
  {
   "cell_type": "code",
   "execution_count": 46,
   "metadata": {},
   "outputs": [
    {
     "name": "stdout",
     "output_type": "stream",
     "text": [
      "42,698 words read from dict.txt\n",
      "... 42,695 are alpha only\n",
      "... 4,428 are 5 letters long\n",
      "\n",
      "77,722 words read from usa2.txt\n",
      "... 77,718 are alpha only\n",
      "... 5,442 are 5 letters long\n",
      "\n",
      "194,433 words read from english3.txt\n",
      "... 194,433 are alpha only\n",
      "... 11,435 are 5 letters long\n",
      "\n"
     ]
    }
   ],
   "source": [
    "dict = get_words('dict.txt')\n",
    "usa = get_words('usa2.txt')\n",
    "english = get_words('english3.txt')\n"
   ]
  },
  {
   "cell_type": "code",
   "execution_count": 49,
   "metadata": {},
   "outputs": [
    {
     "name": "stdout",
     "output_type": "stream",
     "text": [
      "3,311 words in dict ISECT usa\n",
      "3,308 remain after intersecting with english\n"
     ]
    }
   ],
   "source": [
    "isect = dict.intersection(usa)\n",
    "print(f\"{len(isect):,} words in dict ISECT usa\")\n",
    "isect = isect.intersection(english)\n",
    "print(f\"{len(isect):,} remain after intersecting with english\")\n"
   ]
  },
  {
   "cell_type": "code",
   "execution_count": 55,
   "metadata": {},
   "outputs": [],
   "source": [
    "# Write a json file with this cleanup up dictionary\n",
    "import json\n",
    "\n",
    "with open(f'{DATA_DIR}/words.json', 'w') as f:\n",
    "  json.dump(list(isect), f)\n"
   ]
  },
  {
   "cell_type": "code",
   "execution_count": null,
   "metadata": {},
   "outputs": [],
   "source": []
  }
 ],
 "metadata": {
  "interpreter": {
   "hash": "916dbcbb3f70747c44a77c7bcd40155683ae19c65e1c03b4aa3499c5328201f1"
  },
  "kernelspec": {
   "display_name": "Python 3.8.10 64-bit",
   "language": "python",
   "name": "python3"
  },
  "language_info": {
   "codemirror_mode": {
    "name": "ipython",
    "version": 3
   },
   "file_extension": ".py",
   "mimetype": "text/x-python",
   "name": "python",
   "nbconvert_exporter": "python",
   "pygments_lexer": "ipython3",
   "version": "3.8.10"
  },
  "orig_nbformat": 4
 },
 "nbformat": 4,
 "nbformat_minor": 2
}
